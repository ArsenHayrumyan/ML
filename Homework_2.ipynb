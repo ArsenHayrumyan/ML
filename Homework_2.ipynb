{
 "cells": [
  {
   "cell_type": "code",
   "execution_count": 1,
   "id": "74789ac7",
   "metadata": {},
   "outputs": [],
   "source": [
    "import numpy as np"
   ]
  },
  {
   "cell_type": "code",
   "execution_count": 29,
   "id": "357857b1",
   "metadata": {},
   "outputs": [
    {
     "data": {
      "text/plain": [
       "array([16, 17, 18, 19, 20, 21, 22, 23, 24, 25, 26, 27, 28, 29, 30, 31, 32,\n",
       "       33, 34, 35, 36, 37, 38, 39, 40, 41, 42, 43, 44, 45, 46, 47, 48, 49,\n",
       "       50, 51, 52, 53, 54])"
      ]
     },
     "execution_count": 29,
     "metadata": {},
     "output_type": "execute_result"
    }
   ],
   "source": [
    "#1.\n",
    "np.arange(16, 55)"
   ]
  },
  {
   "cell_type": "code",
   "execution_count": 10,
   "id": "8e5a2544",
   "metadata": {},
   "outputs": [
    {
     "name": "stdout",
     "output_type": "stream",
     "text": [
      "[2. 3. 4. 5.]\n",
      "[6. 7. 8. 9.]\n",
      "[10. 11. 12. 13.]\n"
     ]
    }
   ],
   "source": [
    "#2.\n",
    "my_arr = np.linspace(1, 12, 12).reshape(3, 4)\n",
    "for i in my_arr:\n",
    "    i += 1\n",
    "    print(i)\n",
    "# print(my_arr)"
   ]
  },
  {
   "cell_type": "code",
   "execution_count": 11,
   "id": "52a89d36",
   "metadata": {},
   "outputs": [
    {
     "data": {
      "text/plain": [
       "array([ 5., 10., 15., 20., 25., 30., 35., 40., 45., 50.])"
      ]
     },
     "execution_count": 11,
     "metadata": {},
     "output_type": "execute_result"
    }
   ],
   "source": [
    "#3.\n",
    "np.linspace(5, 50, 10)"
   ]
  },
  {
   "cell_type": "code",
   "execution_count": 23,
   "id": "f8bf9f12",
   "metadata": {},
   "outputs": [
    {
     "name": "stdout",
     "output_type": "stream",
     "text": [
      "[  0   1   2   3   4   5   6   7   8  -9 -10 -11 -12 -13 -14 -15  16  17\n",
      "  18  19  20]\n"
     ]
    }
   ],
   "source": [
    "#4.\n",
    "my_arr = np.arange(0, 21)\n",
    "my_arr[9:16] *= -1\n",
    "print(my_arr)"
   ]
  },
  {
   "cell_type": "code",
   "execution_count": 25,
   "id": "7c5a6b89",
   "metadata": {},
   "outputs": [
    {
     "data": {
      "text/plain": [
       "array([2, 5, 3, 0, 6])"
      ]
     },
     "execution_count": 25,
     "metadata": {},
     "output_type": "execute_result"
    }
   ],
   "source": [
    "#5.\n",
    "np.random.randint(0, 10, 5)"
   ]
  },
  {
   "cell_type": "code",
   "execution_count": 26,
   "id": "a9cc0299",
   "metadata": {},
   "outputs": [
    {
     "name": "stdout",
     "output_type": "stream",
     "text": [
      "[2 5 8 8 7] [0 5 8 9 2] [ 0 25 64 72 14]\n"
     ]
    }
   ],
   "source": [
    "#6.\n",
    "my_arr1 = np.random.randint(0, 10, 5)\n",
    "my_arr2 = np.random.randint(0, 10, 5)\n",
    "print(my_arr1, my_arr2, my_arr1 * my_arr2)\n",
    "\n"
   ]
  },
  {
   "cell_type": "code",
   "execution_count": 38,
   "id": "c6bf5e9f",
   "metadata": {},
   "outputs": [
    {
     "name": "stdout",
     "output_type": "stream",
     "text": [
      "[[10. 11. 12. 13.]\n",
      " [14. 15. 16. 17.]\n",
      " [18. 19. 20. 21.]], \n",
      "\n",
      " (3, 4)\n"
     ]
    }
   ],
   "source": [
    "#7, 8.\n",
    "arr = np.linspace(10, 21, 12).reshape(3, 4)\n",
    "print(f'{arr}, \\n\\n {np.shape(arr)}')"
   ]
  },
  {
   "cell_type": "code",
   "execution_count": 39,
   "id": "9cf2d48c",
   "metadata": {},
   "outputs": [
    {
     "data": {
      "text/plain": [
       "array([[1., 0., 0.],\n",
       "       [0., 1., 0.],\n",
       "       [0., 0., 1.]])"
      ]
     },
     "execution_count": 39,
     "metadata": {},
     "output_type": "execute_result"
    }
   ],
   "source": [
    "#9.\n",
    "np.eye(3)"
   ]
  },
  {
   "cell_type": "code",
   "execution_count": 47,
   "id": "b45864c5",
   "metadata": {},
   "outputs": [
    {
     "name": "stdout",
     "output_type": "stream",
     "text": [
      "[[1. 1. 1. 1. 1. 1. 1. 1. 1. 1.]\n",
      " [1. 0. 0. 0. 0. 0. 0. 0. 0. 1.]\n",
      " [1. 0. 0. 0. 0. 0. 0. 0. 0. 1.]\n",
      " [1. 0. 0. 0. 0. 0. 0. 0. 0. 1.]\n",
      " [1. 0. 0. 0. 0. 0. 0. 0. 0. 1.]\n",
      " [1. 0. 0. 0. 0. 0. 0. 0. 0. 1.]\n",
      " [1. 0. 0. 0. 0. 0. 0. 0. 0. 1.]\n",
      " [1. 0. 0. 0. 0. 0. 0. 0. 0. 1.]\n",
      " [1. 0. 0. 0. 0. 0. 0. 0. 0. 1.]\n",
      " [1. 1. 1. 1. 1. 1. 1. 1. 1. 1.]]\n"
     ]
    }
   ],
   "source": [
    "#10.\n",
    "arr = np.ones((10, 10))\n",
    "arr[1:-1, 1:-1] = 0\n",
    "print(arr)"
   ]
  },
  {
   "cell_type": "code",
   "execution_count": 5,
   "id": "5d18ab43",
   "metadata": {},
   "outputs": [
    {
     "data": {
      "text/plain": [
       "array([[1, 0, 0, 0, 0],\n",
       "       [0, 2, 0, 0, 0],\n",
       "       [0, 0, 3, 0, 0],\n",
       "       [0, 0, 0, 4, 0],\n",
       "       [0, 0, 0, 0, 5]])"
      ]
     },
     "execution_count": 5,
     "metadata": {},
     "output_type": "execute_result"
    }
   ],
   "source": [
    "#11.\n",
    "np.zeros((5, 5))\n",
    "np.diag(np.arange(1, 6))"
   ]
  },
  {
   "cell_type": "code",
   "execution_count": 19,
   "id": "595e3cbc",
   "metadata": {},
   "outputs": [
    {
     "name": "stdout",
     "output_type": "stream",
     "text": [
      "[[0. 1. 1. 1.]\n",
      " [1. 0. 1. 1.]\n",
      " [1. 1. 0. 1.]\n",
      " [1. 1. 1. 0.]]\n"
     ]
    }
   ],
   "source": [
    "#12.?\n",
    "# x = np.eye(4) - 1\n",
    "# print(x * -1)\n",
    "# np.zeros((4, 4))\n",
    "# (np.diag(np.ones(4)) - 1) * -1\n",
    "x = np.ones((4, 4))\n",
    "np.fill_diagonal(x, 0)\n",
    "print(x)"
   ]
  },
  {
   "cell_type": "code",
   "execution_count": 69,
   "id": "cb11f114",
   "metadata": {},
   "outputs": [
    {
     "data": {
      "text/plain": [
       "array([[[27,  9,  6],\n",
       "        [ 4, 19,  4],\n",
       "        [ 8, 27, 19]],\n",
       "\n",
       "       [[21,  4, 10],\n",
       "        [17, 19, 17],\n",
       "        [12, 24, 16]],\n",
       "\n",
       "       [[22,  8, 23],\n",
       "        [18,  5,  1],\n",
       "        [10, 17,  2]]])"
      ]
     },
     "execution_count": 69,
     "metadata": {},
     "output_type": "execute_result"
    }
   ],
   "source": [
    "#13.\n",
    "np.random.randint(1, 28, 27).reshape(3, 3, 3)"
   ]
  },
  {
   "cell_type": "code",
   "execution_count": 76,
   "id": "1c74e482",
   "metadata": {},
   "outputs": [
    {
     "name": "stdout",
     "output_type": "stream",
     "text": [
      "[[34 42  2 15 23]\n",
      " [21 15  1 15 26]\n",
      " [41 41 48 18 49]\n",
      " [22 48 12 49 27]]\n",
      "\n",
      "549\n",
      "[118 146  63  97 125]\n",
      "[116  78 197 158]\n"
     ]
    }
   ],
   "source": [
    "#14.\n",
    "x = np.random.randint(1, 50, 20).reshape(4, 5)\n",
    "print(f'{x}\\n\\n{np.sum(x)}\\n{np.sum(x, axis=0)}\\n{np.sum(x, axis=1)}')"
   ]
  },
  {
   "cell_type": "code",
   "execution_count": 30,
   "id": "bdb406e5",
   "metadata": {},
   "outputs": [
    {
     "name": "stdout",
     "output_type": "stream",
     "text": [
      "[2 3 1 7 7 1 7 5 1] [8 5 7 2 5 6 8 6 5] 184\n"
     ]
    }
   ],
   "source": [
    "#15.\n",
    "x = np.random.randint(1, 10, 9)\n",
    "y = np.random.randint(1, 10, 9)\n",
    "print(x, y, np.dot(x,y))"
   ]
  },
  {
   "cell_type": "code",
   "execution_count": 26,
   "id": "9114f6c9",
   "metadata": {},
   "outputs": [
    {
     "name": "stdout",
     "output_type": "stream",
     "text": [
      "[[ 7  6 15 20  2]\n",
      " [36 32 42 43 11]\n",
      " [34 45 19 40 38]\n",
      " [45 44 17 28 15]]\n",
      "[[ 7  6 15 20  2]\n",
      " [36 32 42 43 11]\n",
      " [68 60 60 61 60]\n",
      " [45 44 17 28 15]]\n"
     ]
    }
   ],
   "source": [
    "#16.?\n",
    "x = np.random.randint(1, 50, 20).reshape(4, 5)\n",
    "print(x)\n",
    "x[2:3] = np.random.randint(60, 70, 5)\n",
    "print(x)"
   ]
  },
  {
   "cell_type": "code",
   "execution_count": 31,
   "id": "ee8190be",
   "metadata": {},
   "outputs": [],
   "source": [
    "#17.\n",
    "with open('test.bin', 'w') as file:\n",
    "    file.write(f'{x}')"
   ]
  },
  {
   "cell_type": "markdown",
   "id": "67580b2f",
   "metadata": {},
   "source": [
    "###18?"
   ]
  },
  {
   "cell_type": "code",
   "execution_count": 32,
   "id": "45b23952",
   "metadata": {},
   "outputs": [],
   "source": [
    "#19.\n",
    "with open('test.txt', 'w') as file:\n",
    "    file.write(f'{x}')"
   ]
  },
  {
   "cell_type": "markdown",
   "id": "1217bc14",
   "metadata": {},
   "source": [
    "###20-23?"
   ]
  },
  {
   "cell_type": "code",
   "execution_count": 34,
   "id": "ab7c12c6",
   "metadata": {},
   "outputs": [
    {
     "data": {
      "text/plain": [
       "array([ 12.23,  13.32, 100.  ,  36.32])"
      ]
     },
     "execution_count": 34,
     "metadata": {},
     "output_type": "execute_result"
    }
   ],
   "source": [
    "#24.\n",
    "my_list = [12.23, 13.32, 100, 36.32]\n",
    "np.array(my_list)"
   ]
  },
  {
   "cell_type": "code",
   "execution_count": 38,
   "id": "6d14dc19",
   "metadata": {},
   "outputs": [
    {
     "name": "stdout",
     "output_type": "stream",
     "text": [
      "[[ 2  3  4]\n",
      " [ 5  6  7]\n",
      " [ 8  9 10]]\n"
     ]
    }
   ],
   "source": [
    "#25.\n",
    "x = np.arange(2, 11).reshape(3, 3)\n",
    "print(x)"
   ]
  },
  {
   "cell_type": "code",
   "execution_count": 42,
   "id": "4fdd9520",
   "metadata": {},
   "outputs": [
    {
     "name": "stdout",
     "output_type": "stream",
     "text": [
      "[0. 0. 0. 0. 0. 0. 0. 0. 0. 0.]\n",
      "[ 0.  0.  0.  0.  0.  0. 11.  0.  0.  0.]\n"
     ]
    }
   ],
   "source": [
    "#26.\n",
    "x = np.zeros(10)\n",
    "print(x)\n",
    "x[6] = 11\n",
    "print(x)"
   ]
  },
  {
   "cell_type": "code",
   "execution_count": 43,
   "id": "3ab572eb",
   "metadata": {},
   "outputs": [
    {
     "name": "stdout",
     "output_type": "stream",
     "text": [
      "[12 13 14 15 16 17 18 19 20 21 22 23 24 25 26 27 28 29 30 31 32 33 34 35\n",
      " 36 37]\n"
     ]
    }
   ],
   "source": [
    "#27.\n",
    "x = np.arange(12, 38)\n",
    "print(x)"
   ]
  },
  {
   "cell_type": "code",
   "execution_count": 45,
   "id": "a90d950f",
   "metadata": {},
   "outputs": [
    {
     "name": "stdout",
     "output_type": "stream",
     "text": [
      "[37 36 35 34 33 32 31 30 29 28 27 26 25 24 23 22 21 20 19 18 17 16 15 14\n",
      " 13 12]\n"
     ]
    }
   ],
   "source": [
    "#28.\n",
    "print(x[::-1])"
   ]
  },
  {
   "cell_type": "markdown",
   "id": "8c1a7467",
   "metadata": {},
   "source": [
    "###29?"
   ]
  },
  {
   "cell_type": "code",
   "execution_count": 52,
   "id": "d827f93b",
   "metadata": {},
   "outputs": [
    {
     "name": "stdout",
     "output_type": "stream",
     "text": [
      "[[1. 1. 1. 1. 1. 1. 1. 1. 1. 1.]\n",
      " [1. 1. 1. 1. 1. 1. 1. 1. 1. 1.]\n",
      " [1. 1. 1. 1. 1. 1. 1. 1. 1. 1.]\n",
      " [1. 1. 1. 1. 1. 1. 1. 1. 1. 1.]\n",
      " [1. 1. 1. 1. 1. 1. 1. 1. 1. 1.]\n",
      " [1. 1. 1. 1. 1. 1. 1. 1. 1. 1.]\n",
      " [1. 1. 1. 1. 1. 1. 1. 1. 1. 1.]\n",
      " [1. 1. 1. 1. 1. 1. 1. 1. 1. 1.]\n",
      " [1. 1. 1. 1. 1. 1. 1. 1. 1. 1.]\n",
      " [1. 1. 1. 1. 1. 1. 1. 1. 1. 1.]]\n",
      "---------------------------------\n",
      "[[1. 1. 1. 1. 1. 1. 1. 1. 1. 1.]\n",
      " [1. 0. 0. 0. 0. 0. 0. 0. 0. 1.]\n",
      " [1. 0. 0. 0. 0. 0. 0. 0. 0. 1.]\n",
      " [1. 0. 0. 0. 0. 0. 0. 0. 0. 1.]\n",
      " [1. 0. 0. 0. 0. 0. 0. 0. 0. 1.]\n",
      " [1. 0. 0. 0. 0. 0. 0. 0. 0. 1.]\n",
      " [1. 0. 0. 0. 0. 0. 0. 0. 0. 1.]\n",
      " [1. 0. 0. 0. 0. 0. 0. 0. 0. 1.]\n",
      " [1. 0. 0. 0. 0. 0. 0. 0. 0. 1.]\n",
      " [1. 1. 1. 1. 1. 1. 1. 1. 1. 1.]]\n"
     ]
    }
   ],
   "source": [
    "#30.\n",
    "arr = np.ones((10, 10))\n",
    "print(arr)\n",
    "print('-' * 33)\n",
    "arr[1:-1, 1:-1] = 0\n",
    "print(arr)"
   ]
  },
  {
   "cell_type": "markdown",
   "id": "94b6d119",
   "metadata": {},
   "source": [
    "###31?"
   ]
  },
  {
   "cell_type": "markdown",
   "id": "ffdc0073",
   "metadata": {},
   "source": [
    "###32?"
   ]
  },
  {
   "cell_type": "code",
   "execution_count": 54,
   "id": "09d6e5ed",
   "metadata": {},
   "outputs": [
    {
     "data": {
      "text/plain": [
       "array([10, 20, 30, 40, 50, 60, 70, 80])"
      ]
     },
     "execution_count": 54,
     "metadata": {},
     "output_type": "execute_result"
    }
   ],
   "source": [
    "#33.?\n",
    "x = np.array([10, 20, 30])\n",
    "y = np.array([40, 50, 60, 70, 80])\n",
    "np.append(x, y)"
   ]
  },
  {
   "cell_type": "code",
   "execution_count": 63,
   "id": "344628a7",
   "metadata": {},
   "outputs": [
    {
     "name": "stdout",
     "output_type": "stream",
     "text": [
      "[True, False, False, True, False]\n"
     ]
    }
   ],
   "source": [
    "#34.?\n",
    "a1 = np.array([0, 10, 20, 40, 60])\n",
    "a2 = np.array([0, 40])\n",
    "a = []\n",
    "for i in a1:\n",
    "    a.append(i in a2)\n",
    "print(a)"
   ]
  },
  {
   "cell_type": "code",
   "execution_count": 65,
   "id": "f020efe4",
   "metadata": {},
   "outputs": [
    {
     "name": "stdout",
     "output_type": "stream",
     "text": [
      "[0, 20, 60, 80]\n"
     ]
    }
   ],
   "source": [
    "#35.?\n",
    "a1 = np.array([0, 10, 20, 40, 60, 80])\n",
    "a2 = np.array([10, 30, 40, 50, 70, 90])\n",
    "a = []\n",
    "for i in a1:\n",
    "    if i not in a2:\n",
    "        a.append(i)\n",
    "print(a)"
   ]
  },
  {
   "cell_type": "markdown",
   "id": "a8e6ab2a",
   "metadata": {},
   "source": [
    "###36-38?"
   ]
  },
  {
   "cell_type": "code",
   "execution_count": 66,
   "id": "27ad45d3",
   "metadata": {},
   "outputs": [],
   "source": [
    "#39.\n",
    "with open('test.txt', 'w') as file:\n",
    "    file.write(f'{a}')"
   ]
  },
  {
   "cell_type": "code",
   "execution_count": 76,
   "id": "67145ad5",
   "metadata": {},
   "outputs": [
    {
     "data": {
      "text/plain": [
       "array([[10, 20, 30, 40, 50, 60]])"
      ]
     },
     "execution_count": 76,
     "metadata": {},
     "output_type": "execute_result"
    }
   ],
   "source": [
    "#40.?\n",
    "a = [[10, 20, 30], [40, 50,60]]\n",
    "np.array(a).reshape(1, 6)"
   ]
  },
  {
   "cell_type": "code",
   "execution_count": 78,
   "id": "a9f2ad46",
   "metadata": {},
   "outputs": [
    {
     "name": "stdout",
     "output_type": "stream",
     "text": [
      "[[4. 0. 0. 0.]\n",
      " [0. 5. 0. 0.]\n",
      " [0. 0. 6. 0.]\n",
      " [0. 0. 0. 8.]]\n"
     ]
    }
   ],
   "source": [
    "#41.\n",
    "a = np.zeros((4, 4))\n",
    "np.fill_diagonal(a, [4, 5, 6, 8])\n",
    "print(a)"
   ]
  },
  {
   "cell_type": "markdown",
   "id": "5060397e",
   "metadata": {},
   "source": [
    "###42-43?"
   ]
  },
  {
   "cell_type": "code",
   "execution_count": null,
   "id": "b50b3c4f",
   "metadata": {},
   "outputs": [],
   "source": []
  }
 ],
 "metadata": {
  "kernelspec": {
   "display_name": "Python 3 (ipykernel)",
   "language": "python",
   "name": "python3"
  },
  "language_info": {
   "codemirror_mode": {
    "name": "ipython",
    "version": 3
   },
   "file_extension": ".py",
   "mimetype": "text/x-python",
   "name": "python",
   "nbconvert_exporter": "python",
   "pygments_lexer": "ipython3",
   "version": "3.10.6"
  }
 },
 "nbformat": 4,
 "nbformat_minor": 5
}
